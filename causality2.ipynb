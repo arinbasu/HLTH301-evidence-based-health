{
 "cells": [
  {
   "cell_type": "markdown",
   "metadata": {},
   "source": [
    "# Causality lecture summary\n",
    "- Chance \n",
    "- Bias\n",
    "- Confounding\n",
    "- Strength\n",
    "- Dose-response\n",
    "- Cause must precede the outcome\n",
    "- Attributable proportion\n",
    "- Study designs that best speak to cause and effect"
   ]
  },
  {
   "cell_type": "markdown",
   "metadata": {},
   "source": [
    "# Chance\n",
    "- Hypothesis testing\n",
    "- p-values\n",
    "- 95% confidence intervals"
   ]
  },
  {
   "cell_type": "markdown",
   "metadata": {},
   "source": [
    "# Hypothesis testing\n",
    "- H0: Null hypothesis\n",
    "- H1: Alternative hypothesis\n",
    "- Type I error: Falsely rejecting H0\n",
    "- Type II error: Falsely failing to reject H0"
   ]
  },
  {
   "cell_type": "markdown",
   "metadata": {},
   "source": []
  },
  {
   "cell_type": "markdown",
   "metadata": {},
   "source": [
    "# Hypothesis testing (tabular form)\n",
    "| Null Hypothesis | H0 True | H0 False |\n",
    "|-----------------|---------|----------|\n",
    "| Reject H0    | Type I error | Correct |\n",
    "| Fail to reject H0 | Correct | Type II error |"
   ]
  },
  {
   "cell_type": "markdown",
   "metadata": {},
   "source": [
    "# Hypothesis testing (example)\n",
    "- Smoking causes Lung Cancer\n",
    "- Smokers and  non-smokers equally likely to develop Lung Cancer (H0)\n",
    "- Smokers are more likely to develop Lung Cancer (H1)\n",
    "- Type I error: Study likely to find Smokers MORE likely to develop Lung Cancer\n",
    "- Type II error: Study likely to find Smokers AS likely to develop Lung Cancer\n",
    "- Power = 100 - Probability of Type II Error"
   ]
  },
  {
   "cell_type": "markdown",
   "metadata": {},
   "source": []
  },
  {
   "cell_type": "markdown",
   "metadata": {},
   "source": [
    "# After completion of study\n",
    "- Find out the effect size\n",
    "- If the measure of effect is Risk Ratio or Odds Ratio\n",
    "- Null would be 1.0\n",
    "- If the measure of effect is Risk difference,\n",
    "- Null would be 0"
   ]
  },
  {
   "cell_type": "markdown",
   "metadata": {},
   "source": [
    "# Concept of p-value and 95% CI\n",
    "- Imagine the study were to be conducted a 100 times\n",
    "- What would be the range of the effect size in 95 out of 100 such? (95% CI)\n",
    "- How often the H0 value would be likely to be found in such 100 repeats? (p-value)\n",
    "- Provide you with an idea of how the investigators ruled out chance"
   ]
  },
  {
   "cell_type": "markdown",
   "metadata": {},
   "source": [
    "# Example of chance\n",
    "- Study on Smoking and Lung Cancer found that compared with non-smokers, Smokers were 5.6 times likely to suffer from Lung Cancer (RR = 5.6) and the associated p-value = 0.001\n",
    "- Suggests that the risk was 5.6 times \n",
    "- If H0 was true, then they would  find this result about 0.1% of the times the study were to be repeated\n",
    "- This is another way of saying that H0 is highly unlikely\n",
    "- The larger the sample size, the lower is usually the p-value\n",
    "- A single p-value is not informative"
   ]
  },
  {
   "cell_type": "markdown",
   "metadata": {},
   "source": [
    "# Example of chance (continued)\n",
    "- Study on smoking and lung cancer found that compared with non-smokers, smokers were 5.6 times likely to suffer from Lung Cancer (RR = 5.6; 95% CI: 2.34 - 6.57)\n",
    "- This tells us that the risk of Lung Cancer was 5.6 times among Smokers \n",
    "- Also, if this study were to be repeated 100 times, then the risk would lie between 2.34 and 6.57\n",
    "- H0 = 1 would not be included in the confidence interval\n",
    "\n",
    "# Example of a chance (continued)\n",
    "- Study on coffee consumption and pancreatic cancer found that compared with those who consumed 1-2 cups of coffee per day, those who consumed 6+ cups of coffee were 2.3 times likely to die from pancreatic cancer (RR = 2.3; 95% CI: 0.87 - 3.23; p = 0.08)\n",
    "- This suggests although the risk of pancreatic cancer from coffee consumption is high, this is not statistically significant\n",
    "- If this study were to be repeated 100 times, they would not  be able to rule out null\n",
    "\n",
    "# Rule out chance\n",
    "- Sufficient sample size and power\n",
    "- Sample size estimation is done on the basis of:\n",
    "- Risk of the disease among non-exposed (baseline risk)\n",
    "- Alternatively, risk of the outcome among those who do not receive an intervention\n",
    "- Risk estimate (this can be risk ratio or odds ratio)\n",
    "- The presumed Type I error and Type II error \n",
    "\n",
    "# Sample size estimation rules\n",
    "- Baseline risk information is obtained from existing studies or observations\n",
    "- Risk estimate can also be obtained from existing studies OR from literature\n",
    "- Substantive signifciance versus statistical significance\n",
    "- Type I and Type II errors are determined by the subject matter under study\n",
    "\n",
    "# Biases\n",
    "- Systematic errors in the study so that one group is favoured over another\n",
    "- Participants in the treatment arm or exposure arm can systematically differ from the control arm\n",
    "- Measurement errors more in one arm of the study compared with another arm\n",
    "- Can be addressed only during the planning stage of the study\n",
    "- Selection bias and response bias \n",
    "\n",
    "# Example of Bias\n",
    "- Study found those who suffered from Brain tumours were more likely to consume 4-5 cups of green tea\n",
    "- Information about green tea consumption were obtained through diet survey and people who suffered from brain tumours recalled or reported consuming more of green tea than those who did not or comparable non-tumour groups\n",
    "- Response bias: when respondents of a study systematically differ in their response patterns\n",
    "- In an industry sponsored trial, drug Omeprazole was found to be more effective than placebo in treating heartburn: investigators selectively gave placebo to people with more frequent complaints of heartburn or burning sensation in the chest\n",
    "- Selection bias is when investigators selectively introduce a bias or difference between comparison groups\n",
    "\n",
    "# How to eliminate biases in studies\n",
    "- In intervention studies, use randomisation procedures\n",
    "- In observational studies, use objective measurements wherever possible\n",
    "- If using surveys and instruments, the data collectors should be trained properly\n",
    "- \"Blinding\" or making the investigators unaware as to which patients receive the active ingredient and which patients receive the placebos is an effective means to ensure biases are eliminated\n",
    "\n",
    "# Confounding\n",
    "![confounder](confounder.png)\n",
    "\n",
    "# Definition of confounding variable\n",
    "- Confounder is associated with BOTH exposure and outcome\n",
    "- Confounding variable does not come in the proposed causal pathway linking Exposure and Outcome\n",
    "- Whether a variable is a confounding or not is a matter of substance knowledge NOT statistical\n",
    "\n",
    "# Example of a confounding variable\n",
    "- Study found that compard with 1-2 cups of coffee consumption per day, those who consumed 6+ cups of coffee were more likely to suffer from pancreatic cancer (RR = 5.6).\n",
    "- Gender is a confounding variable here\n",
    "- Men were more likely to suffer from pancreatic cancer and men were also more likely to consume coffee\n",
    "- After adjustment for the effect of gender, the RR = 3.4 (1.2 - 4.5)\n",
    "\n",
    "# How to control for confounding variables\n",
    "- Randomisation -- by randomly allocating individuals to control and intervention arms, the analyst can control for confounding variables\n",
    "- Matching - In observational studies, matching individuals in the comparative arms\n",
    "- Statistical adjustment by stratified analysis - divide the sample into strata based on categories of confoundng variable and analysis by pooling the results\n",
    "- Multivariable analysis -- during statistical analysis of the data, the confounding variables are entered as co-variates in the analysis and adjusted for\n",
    "\n",
    "# Association versus causation\n",
    "- A valid association is when:\n",
    "- Chances ruled out\n",
    "- Biases eliminated\n",
    "- Confounding is controlled for\n",
    "- At that point, one should also assess the NATURE of association: is it causal\n",
    "- Bradford Hill criteria\n",
    "- Rothman's Counterfactual theories of causation\n",
    "\n",
    "# Bradford Hill Criteria of causality\n",
    "- Austin Bradford Hill in 1965\n",
    "- Nine criteria\n",
    "- Strength of association\n",
    "- Consistency of association\n",
    "- Specificity of association\n",
    "- Temporality of association\n",
    "- Biological gradient (dose-response)\n",
    "- Plausible (biologically plausible)\n",
    "- Coherence (agree with generally known facts)\n",
    "- Experiment (Can it be validated by experiments or RCTs)\n",
    "- Analogy (Do similar exposures or drugs lead to comparable outcomes)\n",
    "\n",
    "# Strength of association\n",
    "- Stronger the association the more likely to be causal\n",
    "- Stronger the RR, the higher the Attributable risk\n",
    "- Another competing agent to be a cause has to have a higher value\n",
    "\n",
    "# Attributable risk\n",
    "- (Ie - I0) / Ie\n",
    "- What percentage of the disease or outcome among the exposed can be explained by the exposure alone?\n",
    "- (RR - 1) / RR\n",
    "- Example: Relative risk of Lung cancer among smokers is 9.0: What percentage of lung cancer among smokers is explained by smoking alone?\n",
    "- 9 - 1/9 = 89% of lung cancer among smokers would be accounted for by smoking alone\n",
    "\n",
    "# Attributable risk 2\n",
    "- Relative risk of lung cancer among tea drinkers is 1.2 (heavy tea drinkers versus those who do not consume tea).\n",
    "- What is the attributable risk of tea for lung cancer?\n",
    "\n",
    "# Temporality\n",
    "- If X has to be a cause of y, then X has to precede y in time\n",
    "- If we suspect coffee consumption as a cause of pancreatic cancer, then we will need to show that those who had pancreatic cancer in the study had started drinking coffee BEFORE they were diagnosed with pancreatic cancer\n",
    "- On the other hand, if they did NOT drink coffee before their diagnoses but AFTER they were diagnosed (say they substitued coffee with beer), THEN although coffee may be associated with pancreatic cancer, this association is NOT one of cause and effect\n",
    "\n",
    "# Dose response (biological gradient)\n",
    "- The higher the dose of the exposure, the more likely that the disease or the outcome will occur\n",
    "\n",
    "# Dose response plot\n",
    "![dose response](dose_response.png)\n",
    "\n",
    "# Rothman's counterfactual theories of causation\n",
    "- Bradford hill criteria helps to assess whether a relationship is causal\n",
    "- Causes are rarely single, there are always multiple factors of causes\n",
    "- Both Cigarette smoking and Exposure to Asbestos can lead to Lung Cancer\n",
    "- Rothman's counterfactual theory answers the question, \"What if X was removed; to what extent would it lead to a reduction in the outcome Y\"?\n",
    "- Based on such considerations, a causal structure is discussed\n",
    "\n",
    "# Component, Necessary and sufficient causes\n",
    "- The same outcome can have many causes\n",
    "- Each causal mechanism is referred to as sufficient causal model\n",
    "- Each sufficient causal model has many elements in them\n",
    "- Arrange them in the shape of a pie\n",
    "- Each slice of the pie is referred to as component cause\n",
    "- If a component cause is to be found in ALL sufficient causal models, then such a component cause is referred to as necessary cause\n",
    "- The size of each slice for an outcome is derived from Attributable Risk for each cause-outcome pair\n",
    "\n",
    "# Example of asbestos, arsenic, cigarette smoking for lung cancer\n",
    "- Studies have shown that:\n",
    "- Smoking is associated with Lung Cancer, RR=9.0\n",
    "- Asbestos is associated with Lung Cancer, RR = 8.5\n",
    "- Exposure to arsenic is associated with Lung ca, RR = 7.6\n",
    "- Exposure to passive smoking is associated Lung Cancer, RR = 6.7\n",
    "- Each of these could be component causes\n",
    "\n",
    "# Multiple causes\n",
    "![pie](pie.png)\n",
    "\n",
    "# How can this be possible?\n",
    "| Cause | Percentage |\n",
    "|-------|------------|\n",
    "| Smoking | 89% |\n",
    "| Asbestos | 88.2% |\n",
    "| Arsenic | 85.1% |\n",
    "\n",
    "# What does this mean in the population?\n",
    "- population attributable risk\n",
    "- prevalence of risk in the population * AR%\n",
    "\n",
    "# Example of PAR%\n",
    "- 20% people smoke cigarette\n",
    "- 2% people are exposed to asbestos dust\n",
    "- 1% people are exposed to arsenic through drinking water\n",
    "- If all sources were to be completely eliminated, what % of lung cancer in the society would be reduced?\n",
    "\n",
    "# Table of population attributable risk%\n",
    "\n",
    "| Cause | AR% | Prevalence | PAR% |\n",
    "|-------|-----|------------|------|\n",
    "| Smoking | 88.89 | 20     | 17.7% |\n",
    "| Asbestos | 88.2% | 2%| 1.76%\n",
    "| Arsenic | 85.1% | 1% | 0.85% |\n",
    "\n",
    "- If everyone were to be made non-smokers, if asbestos were completely removed, and arsenic exposure was brought to 0, what percentage of lung cancer would be eliminated? (Answer: )\n",
    "\n",
    "# Summary\n",
    "- Causes and effects are more than statistical\n",
    "- Rule out chance\n",
    "- Eliminate bias\n",
    "- Control for confounding\n",
    "- Assess for the magnitude of the strength of association\n",
    "- Assses for whether the cause preceded the effect in time\n",
    "- Assess whether there is a natural dose-response relationship\n",
    "- Assess all other factors\n",
    "- Assess the counterfactuals"
   ]
  },
  {
   "cell_type": "code",
   "execution_count": 2,
   "metadata": {},
   "outputs": [
    {
     "data": {
      "text/plain": [
       "16.666666666666664"
      ]
     },
     "execution_count": 2,
     "metadata": {},
     "output_type": "execute_result"
    }
   ],
   "source": [
    "\n",
    "def attributable_risk(rr):\n",
    "    ar = (rr - 1)*100 / rr\n",
    "    return(ar)\n",
    "    \n",
    "attributable_risk(1.2)    "
   ]
  },
  {
   "cell_type": "code",
   "execution_count": 3,
   "metadata": {},
   "outputs": [],
   "source": [
    "import pandas as pd\n",
    "import numpy as np\n",
    "import matplotlib.pyplot as plt"
   ]
  },
  {
   "cell_type": "code",
   "execution_count": 6,
   "metadata": {},
   "outputs": [],
   "source": [
    "x = [1,2,3,4,5,6,7,8,9]\n",
    "y = [2,5,7, 11, 9, 10, 18, 20, 22]"
   ]
  },
  {
   "cell_type": "code",
   "execution_count": 8,
   "metadata": {},
   "outputs": [
    {
     "data": {
      "image/png": "[encoded data removed]",
      "text/plain": [
       "<Figure size 432x288 with 1 Axes>"
      ]
     },
     "metadata": {
      "needs_background": "light"
     },
     "output_type": "display_data"
    }
   ],
   "source": [
    "plt.plot(x,y)\n",
    "plt.savefig('dose_response.png')"
   ]
  },
  {
   "cell_type": "code",
   "execution_count": 18,
   "metadata": {},
   "outputs": [
    {
     "data": {
      "text/plain": [
       "[88.88888888888889, 88.23529411764706, 85.07462686567163]"
      ]
     },
     "execution_count": 18,
     "metadata": {},
     "output_type": "execute_result"
    }
   ],
   "source": [
    "labels = ['smoking', 'asbestos', 'arsenic']\n",
    "smoking = attributable_risk(9)\n",
    "asbestos = attributable_risk(8.5)\n",
    "arsenic = attributable_risk(6.7)\n",
    "sizes = [smoking, asbestos, arsenic]\n",
    "smoking\n",
    "asbestos\n",
    "arsenic\n",
    "sizes"
   ]
  },
  {
   "cell_type": "code",
   "execution_count": 19,
   "metadata": {},
   "outputs": [
    {
     "data": {
      "image/png": "[encoded data removed]",
      "text/plain": [
       "<Figure size 432x288 with 1 Axes>"
      ]
     },
     "metadata": {},
     "output_type": "display_data"
    }
   ],
   "source": [
    "plt.pie(sizes, labels=labels, shadow=True, \n",
    "        startangle=140)\n",
    "plt.savefig('pie.png')"
   ]
  },
  {
   "cell_type": "code",
   "execution_count": 20,
   "metadata": {},
   "outputs": [],
   "source": [
    "def par_pct(rr, prev):\n",
    "    arpct = (rr - 1)*100 / rr\n",
    "    parpct = (prev * arpct)/100\n",
    "    return(parpct)"
   ]
  },
  {
   "cell_type": "code",
   "execution_count": 27,
   "metadata": {},
   "outputs": [
    {
     "data": {
      "text/plain": [
       "20.4109047127623"
      ]
     },
     "execution_count": 27,
     "metadata": {},
     "output_type": "execute_result"
    }
   ],
   "source": [
    "smoking1 = par_pct(9, 20)\n",
    "asbestos1 = par_pct(8.5, 2)\n",
    "arsenic1 = par_pct(7.6, 1)\n",
    "total = [smoking1, asbestos1, arsenic1]\n",
    "sum(total)"
   ]
  },
  {
   "cell_type": "code",
   "execution_count": 1,
   "metadata": {},
   "outputs": [
    {
     "data": {
      "text/plain": [
       "16.666666666666664"
      ]
     },
     "execution_count": 1,
     "metadata": {},
     "output_type": "execute_result"
    }
   ],
   "source": [
    "# rr - 1/ rr\n",
    "rr = 1.2\n",
    "(rr - 1) * 100/ rr"
   ]
  },
  {
   "cell_type": "code",
   "execution_count": null,
   "metadata": {},
   "outputs": [],
   "source": []
  }
 ],
 "metadata": {
  "kernelspec": {
   "display_name": "Python 3",
   "language": "python",
   "name": "python3"
  },
  "language_info": {
   "codemirror_mode": {
    "name": "ipython",
    "version": 3
   },
   "file_extension": ".py",
   "mimetype": "text/x-python",
   "name": "python",
   "nbconvert_exporter": "python",
   "pygments_lexer": "ipython3",
   "version": "3.7.3"
  }
 },
 "nbformat": 4,
 "nbformat_minor": 2
}
