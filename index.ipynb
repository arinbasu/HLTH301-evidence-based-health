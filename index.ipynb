{
 "cells": [
  {
   "cell_type": "markdown",
   "metadata": {},
   "source": [
    "## Evidence based health\n",
    "- Use of information to guide practice\n",
    "- Step by step:\n",
    "- Ask using a PICO framed question\n",
    "- Acquire using search of scholarly databases and other sources\n",
    "- Appraise using tools to assess whether the information is valid and reliable\n",
    "- Apply this information to your own setting"
   ]
  },
  {
   "cell_type": "markdown",
   "metadata": {},
   "source": [
    "## Step 1: Ask using PICO criteria\n",
    "- P for patients, population, people, persons\n",
    "- I for interventions (alternatively E = exposure)\n",
    "- C for comparators or comparison groups\n",
    "- O for outcomes"
   ]
  },
  {
   "cell_type": "markdown",
   "metadata": {},
   "source": [
    "## Start with a problem\n",
    "> X is a 20 year old young student who wants to find out whether daily mindfulnes meditation as opposed to pills will help him in overcoming test anxiety\n",
    "\n",
    "- Convert this to a PICO question"
   ]
  },
  {
   "cell_type": "markdown",
   "metadata": {},
   "source": [
    "## Convert to a PICO question\n",
    "> Compared with no interventions or anxiolytic medications, what is the effectiveness of mindfulness meditation for young people with anxiety for reduction in anxiety symptoms?\n",
    "\n",
    "- Elements of the PICO\n",
    "- P: young people with anxiety\n",
    "- I: mindfulness meditation\n",
    "- C: anxiolytic medication\n",
    "- C: no intervention\n",
    "- O: reduction in anxiety symptoms"
   ]
  },
  {
   "cell_type": "markdown",
   "metadata": {},
   "source": [
    "## PICO challenge for you\n",
    "> Y wants to know if a combination of breathing exercises and medications is better in improving asthma symptoms than medications alone. How will Y construct the PICO formatted question?\n",
    "\n",
    "- Write the question on the collaborative document for the class. You can work solo or in groups (2 minutes)\n",
    "- Write the P, I, C, and O for this exercise (2 minutes)"
   ]
  },
  {
   "cell_type": "markdown",
   "metadata": {},
   "source": [
    "## Step 2: Acquire information\n",
    "- Construct search terms\n",
    "- Identify the databases that you will search\n",
    "- Combine the search terms using Boolean logic to build a search algorithm\n",
    "- Use the search algorithm to search databases\n",
    "- store the search results locally"
   ]
  },
  {
   "cell_type": "markdown",
   "metadata": {},
   "source": [
    "## Construct search terms\n",
    "- Use common expressions\n",
    "- Use controlled vocabulary of scientific terms\n",
    "- Guess which terms can occur in titles and abstracts of papers published\n",
    "- Challenge:\n",
    "> From the PICO question, \"Compared with no interventions or anxiolytic medications, what is the effectiveness of mindfulness meditation for young people with anxiety for reduction in anxiety symptoms?\" what search terms can be constructed?\n",
    "\n",
    "- Use the collaborative document to write five search terms that comes to mind (2 minutes)"
   ]
  },
  {
   "cell_type": "markdown",
   "metadata": {},
   "source": [
    "## Combine the search terms so that you can find studies\n",
    "- Use Boolean logic to combine terms\n",
    "- Think of the potential places within a publication where you can find such terms"
   ]
  },
  {
   "cell_type": "markdown",
   "metadata": {},
   "source": [
    "## Concept of Boolean logic\n",
    "- Consists of connecting terms: AND, OR, NOT\n",
    "- These terms combine 'search terms'\n",
    "- Use OR to widen the scope of the search\n",
    "- use AND to narrow the scope of search\n",
    "- use NOT to exclude the scope of search"
   ]
  },
  {
   "cell_type": "markdown",
   "metadata": {},
   "source": [
    "## Concept of Boolean AND logic\n",
    "\n",
    "![Boolean and](boolean_and.png)"
   ]
  },
  {
   "cell_type": "markdown",
   "metadata": {},
   "source": [
    "## Boolean OR logic\n",
    "![Boolean or](boolean_or.png)"
   ]
  },
  {
   "cell_type": "markdown",
   "metadata": {},
   "source": [
    "## Boolean NOT logic\n",
    "![boolean not](boolean_not.png)"
   ]
  },
  {
   "cell_type": "markdown",
   "metadata": {},
   "source": [
    "## Example of boolean logic and terms\n",
    "\n",
    "> \"Compared with no interventions or anxiolytic medications, what is the effectiveness of mindfulness meditation for young people with anxiety for reduction in anxiety symptoms?\" \n",
    "\n",
    "- Search terms: \"mindfulness\", \"meditation\", \"anxiety\"\n",
    "- \"mindfulness\" AND \"anxiety\" will search for ONLY those studies with BOTH\n",
    "- mindfulness AND anxiety in them\n",
    "- \"mindfulness\" OR \"anxiety\" will search for ALL those studies that have EITHER \n",
    "- mindfulness OR anxiety in them\n",
    "- \"mindfulness\" NOT \"anxiety\" will search for ONLY mindfulness BUT not \"anxiety\""
   ]
  },
  {
   "cell_type": "markdown",
   "metadata": {},
   "source": [
    "## Challenge:\n",
    "> > \"Compared with no interventions or anxiolytic medications, what is the effectiveness of mindfulness meditation for young people with anxiety for reduction in anxiety symptoms?\" \n",
    "- Search terms: \"mindfulness\", \"meditation\", \"anxiety\"\n",
    "- Which search term combination will search for all of mindfulness meditation and anxiety?\n",
    "- Which search term combination will search for mindfulness and meditation but not for anxiety\n",
    "- Which search term combination will search for mindfulness and meditation but none of the others?\n",
    "- Use the collaborative document to write the search terms and discuss"
   ]
  },
  {
   "cell_type": "markdown",
   "metadata": {},
   "source": [
    "## How and where to find these studies\n",
    "- Which section of the study reports to look for\n",
    "- Which databases to look up"
   ]
  },
  {
   "cell_type": "markdown",
   "metadata": {},
   "source": [
    "## Which sections of the study reports to look for the terms?\n",
    "- Title of the paper\n",
    "- Abstract of the paper\n",
    "- You can find additional references and citations from the references section\n",
    "- Read in following order: Title and abstract > Last paragraph of the introduction > methods section > results section > discussion\n",
    "- Search in title and abstract of the paper"
   ]
  },
  {
   "cell_type": "markdown",
   "metadata": {},
   "source": [
    "## Which databases to look up\n",
    "- Medline (Ovid) and Pubmed\n",
    "- Google Scholar and Bing Academic (free but generic search engines)\n",
    "- Google and Duckduckgo\n",
    "- UC Library databases\n",
    "- You will learn the details in the search class"
   ]
  },
  {
   "cell_type": "markdown",
   "metadata": {},
   "source": [
    "## What will you do with the retrieved papers\n",
    "- Retrieve and store the citations to a citation management system\n",
    "- Endnote (Commercial and you can obtain from University servers)\n",
    "- Mendeley (Commercial and you can obtain for free also from UC)\n",
    "- Zotero (Free and open source)\n",
    "- F1000workspace (free and you can obtain for free)"
   ]
  },
  {
   "cell_type": "markdown",
   "metadata": {},
   "source": [
    "## Step 3: Appraise the studies\n",
    "- Review the author affiliation and competing interests\n",
    "- Review the methods section\n",
    "- Review the results\n",
    "- Answer:\n",
    "- Are the results believable?\n",
    "- What are the results?\n",
    "- What is the level of evidence?"
   ]
  },
  {
   "cell_type": "markdown",
   "metadata": {},
   "source": [
    "## Example of conducting critical appraisal of a study\n",
    "> A brief search on mindfulness meditation and anxiety yielded the following study:\n",
    "> Internet-based mindfulness treatment for anxiety disorders: a randomized controlled trial.\n",
    "> https://www.ncbi.nlm.nih.gov/pubmed/24491199?report=abstract\n",
    "\n",
    "- [Download the study from here](https://arinbasu.github.io/HLTH301-evidence-based-health/mindfulness_meditation.pdf)\n",
    "- Open the study in a PDF reader\n",
    "- Follow along in the [collaborative document and answer the questions/discussion points](https://hackmd.io/GU_wv4CvQKGscV6ci7e-jw?both)"
   ]
  },
  {
   "cell_type": "markdown",
   "metadata": {},
   "source": [
    "## Applying evidence based practice\n",
    "- Are the study results applicable to the desired audience?"
   ]
  }
 ],
 "metadata": {
  "kernelspec": {
   "display_name": "Python 3",
   "language": "python",
   "name": "python3"
  },
  "language_info": {
   "codemirror_mode": {
    "name": "ipython",
    "version": 3
   },
   "file_extension": ".py",
   "mimetype": "text/x-python",
   "name": "python",
   "nbconvert_exporter": "python",
   "pygments_lexer": "ipython3",
   "version": "3.7.3"
  }
 },
 "nbformat": 4,
 "nbformat_minor": 2
}
